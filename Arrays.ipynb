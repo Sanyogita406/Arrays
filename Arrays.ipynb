{
  "nbformat": 4,
  "nbformat_minor": 0,
  "metadata": {
    "colab": {
      "provenance": []
    },
    "kernelspec": {
      "name": "python3",
      "display_name": "Python 3"
    },
    "language_info": {
      "name": "python"
    }
  },
  "cells": [
    {
      "cell_type": "code",
      "execution_count": null,
      "metadata": {
        "id": "jv0azdvY4jSj",
        "colab": {
          "base_uri": "https://localhost:8080/"
        },
        "outputId": "14351c9e-50d5-4888-df91-b00ad5b15426"
      },
      "outputs": [
        {
          "output_type": "stream",
          "name": "stdout",
          "text": [
            "True\n"
          ]
        }
      ],
      "source": [
        "#1. Given an array, check if it contains any duplicates or not.\n",
        "    #arr = [1,2,4,2,5,9]\n",
        "    #Output = True\n",
        "\n",
        "arr = [1, 2, 4, 2, 5, 9]\n",
        "output = len(arr) != len(set(arr))\n",
        "print(output)"
      ]
    },
    {
      "cell_type": "code",
      "source": [
        "#2. Given an array and an integer k, rootate the array to the right by k steps.\n",
        "   #arr = [1,2,3,4,5,6,7]k = 3\n",
        "   #Output = [5,6,7,1,2,3,4]\n",
        "\n",
        "def rotate_array(arr, k):\n",
        "  k = k % len(arr)\n",
        "  arr[:] = arr[-k:] + arr[:-k]\n",
        "  return arr\n",
        "\n",
        "arr = [1, 2, 3, 4, 5, 6, 7]\n",
        "k = 3\n",
        "\n",
        "rotated_arr = rotate_array(arr, k)\n",
        "print(rotated_arr)"
      ],
      "metadata": {
        "colab": {
          "base_uri": "https://localhost:8080/"
        },
        "id": "Hrb6tL7IDGr_",
        "outputId": "0a4c0ca6-ce08-43e7-ba8e-be8c8e82fbbd"
      },
      "execution_count": null,
      "outputs": [
        {
          "output_type": "stream",
          "name": "stdout",
          "text": [
            "[5, 6, 7, 1, 2, 3, 4]\n"
          ]
        }
      ]
    },
    {
      "cell_type": "code",
      "source": [
        "#3. Reverse the given array in-place, means without using any extra data structure.\n",
        "   #arr = [2,4,5,7,9,12]\n",
        "   #Output = [12,9,7,5,4,2]\n",
        "\n",
        "arr = [2, 4, 5, 7, 9, 12]\n",
        "arr.reverse()\n",
        "print(arr)\n"
      ],
      "metadata": {
        "colab": {
          "base_uri": "https://localhost:8080/"
        },
        "id": "gRnKsGRjEOqu",
        "outputId": "85836604-9763-4599-f4df-7a533ee32367"
      },
      "execution_count": null,
      "outputs": [
        {
          "output_type": "stream",
          "name": "stdout",
          "text": [
            "[12, 9, 7, 5, 4, 2]\n"
          ]
        }
      ]
    },
    {
      "cell_type": "code",
      "source": [
        "#4. Given an array of integers, find the maximum element in an array\n",
        "    #arr = [10,5,20,8,15]\n",
        "    #Output = 20\n",
        "\n",
        "arr = [10, 5, 20, 8, 15]\n",
        "output = max(arr)\n",
        "print(output)"
      ],
      "metadata": {
        "colab": {
          "base_uri": "https://localhost:8080/"
        },
        "id": "oMudxgNoFqH-",
        "outputId": "5f043bf7-0166-4260-c696-be0c9a8dc102"
      },
      "execution_count": null,
      "outputs": [
        {
          "output_type": "stream",
          "name": "stdout",
          "text": [
            "20\n"
          ]
        }
      ]
    },
    {
      "cell_type": "code",
      "source": [
        "#5. Given a sorted array, removes the duplicate element without using any extra data structure.\n",
        "    #arr = [1,1,2,2,2,3,3,4,4,4,5,5]\n",
        "    #Output = [1,2,3,4,5]\n",
        "\n",
        "arr = [1, 1, 2, 2, 2, 3, 3, 4, 4, 4, 5, 5]\n",
        "i = 0\n",
        "while i < len(arr) - 1:\n",
        "    if arr[i] == arr[i + 1]:\n",
        "        arr.pop(i)\n",
        "    else:\n",
        "        i += 1\n",
        "\n",
        "print(arr)"
      ],
      "metadata": {
        "colab": {
          "base_uri": "https://localhost:8080/"
        },
        "id": "P2mnniP1GkvI",
        "outputId": "f5c00bff-ba14-40f9-eb63-3fdd040a571c"
      },
      "execution_count": null,
      "outputs": [
        {
          "output_type": "stream",
          "name": "stdout",
          "text": [
            "[1, 2, 3, 4, 5]\n"
          ]
        }
      ]
    }
  ]
}